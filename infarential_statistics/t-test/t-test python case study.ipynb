{
 "cells": [
  {
   "cell_type": "markdown",
   "id": "68af21d4",
   "metadata": {},
   "source": [
    "## One simple or single simple t test :"
   ]
  },
  {
   "cell_type": "markdown",
   "id": "0308d01d",
   "metadata": {},
   "source": [
    "#### Let we have the titanic dataset and we are assuming that average age of the passengers would be 35,whereas some of us claim that it would be less than 35 . So we are going to do the t-test for this problem statement."
   ]
  },
  {
   "cell_type": "markdown",
   "id": "47b24274",
   "metadata": {},
   "source": [
    "### Answer :"
   ]
  },
  {
   "cell_type": "markdown",
   "id": "a5337674",
   "metadata": {},
   "source": [
    "so our null hypothesis (Ho): Average age of the passenger is 35\n",
    "\n",
    "alternative hypothesis(Ha):Average age is less than 35"
   ]
  },
  {
   "cell_type": "code",
   "execution_count": 1,
   "id": "628a02a9",
   "metadata": {},
   "outputs": [],
   "source": [
    "import pandas as pd\n",
    "import numpy as np\n",
    "import seaborn as sns\n",
    "import scipy.stats as stat"
   ]
  },
  {
   "cell_type": "code",
   "execution_count": 2,
   "id": "8ed83bfc",
   "metadata": {},
   "outputs": [],
   "source": [
    "df=sns.load_dataset(\"titanic\")"
   ]
  },
  {
   "cell_type": "code",
   "execution_count": 37,
   "id": "b4ec8958",
   "metadata": {},
   "outputs": [
    {
     "data": {
      "text/plain": [
       "177"
      ]
     },
     "execution_count": 37,
     "metadata": {},
     "output_type": "execute_result"
    }
   ],
   "source": [
    "df[\"age\"].isnull().sum()"
   ]
  },
  {
   "cell_type": "code",
   "execution_count": 38,
   "id": "9e46a672",
   "metadata": {},
   "outputs": [],
   "source": [
    "pop=df[\"age\"].dropna()"
   ]
  },
  {
   "cell_type": "code",
   "execution_count": 39,
   "id": "4fe7ab3c",
   "metadata": {},
   "outputs": [
    {
     "data": {
      "text/plain": [
       "0"
      ]
     },
     "execution_count": 39,
     "metadata": {},
     "output_type": "execute_result"
    }
   ],
   "source": [
    "pop.isnull().sum()"
   ]
  },
  {
   "cell_type": "markdown",
   "id": "aa0e1ed5",
   "metadata": {},
   "source": [
    "let suppose we have taken 25 sample from the population."
   ]
  },
  {
   "cell_type": "code",
   "execution_count": 40,
   "id": "465a7a5a",
   "metadata": {},
   "outputs": [],
   "source": [
    "sample=pop.sample(25).values"
   ]
  },
  {
   "cell_type": "code",
   "execution_count": 41,
   "id": "aa3c2850",
   "metadata": {},
   "outputs": [
    {
     "data": {
      "text/plain": [
       "array([40.  , 42.  , 19.  , 37.  , 30.  , 29.  ,  2.  , 22.  , 26.  ,\n",
       "       27.  , 22.  , 15.  , 10.  , 51.  , 31.  , 43.  , 19.  ,  4.  ,\n",
       "       39.  , 32.  ,  0.42, 21.  , 38.  , 35.  , 31.  ])"
      ]
     },
     "execution_count": 41,
     "metadata": {},
     "output_type": "execute_result"
    }
   ],
   "source": [
    "sample"
   ]
  },
  {
   "cell_type": "markdown",
   "id": "0452b127",
   "metadata": {},
   "source": [
    "now we have to test the assumptions"
   ]
  },
  {
   "cell_type": "code",
   "execution_count": 42,
   "id": "3b138222",
   "metadata": {},
   "outputs": [],
   "source": [
    "#checking for the normality\n",
    "from scipy.stats import shapiro"
   ]
  },
  {
   "cell_type": "code",
   "execution_count": 43,
   "id": "d958e3e2",
   "metadata": {},
   "outputs": [
    {
     "name": "stdout",
     "output_type": "stream",
     "text": [
      "our sample is normally distributed.\n"
     ]
    }
   ],
   "source": [
    "result=shapiro(sample)\n",
    "p_value=result[1]\n",
    "if p_value>0.05:\n",
    "    print(\"our sample is normally distributed.\")\n",
    "else:\n",
    "    print(\"our sample isn't normally distributed.\")"
   ]
  },
  {
   "cell_type": "code",
   "execution_count": 44,
   "id": "14b050b1",
   "metadata": {},
   "outputs": [],
   "source": [
    "pop_mean=35"
   ]
  },
  {
   "cell_type": "code",
   "execution_count": 45,
   "id": "60cf1512",
   "metadata": {},
   "outputs": [],
   "source": [
    "from scipy.stats import ttest_1samp"
   ]
  },
  {
   "cell_type": "code",
   "execution_count": 46,
   "id": "38cd9518",
   "metadata": {},
   "outputs": [
    {
     "name": "stdout",
     "output_type": "stream",
     "text": [
      "we reject our null hypothesis and Average age is less than 35 yr\n"
     ]
    }
   ],
   "source": [
    "result=ttest_1samp(sample,pop_mean)\n",
    "p_value=result[1]/2 # as it is left-tailed test\n",
    "if p_value>0.05:\n",
    "    print(\"Our null hypothesis is true.Average age of the passenger is 35 yr\")\n",
    "else:\n",
    "    print(\"we reject our null hypothesis and Average age is less than 35 yr\")"
   ]
  },
  {
   "cell_type": "code",
   "execution_count": 47,
   "id": "71fb0b13",
   "metadata": {},
   "outputs": [
    {
     "data": {
      "text/plain": [
       "Ttest_1sampResult(statistic=-3.157360962130363, pvalue=0.004257523202690862)"
      ]
     },
     "execution_count": 47,
     "metadata": {},
     "output_type": "execute_result"
    }
   ],
   "source": [
    "result"
   ]
  },
  {
   "cell_type": "code",
   "execution_count": 49,
   "id": "97e3800a",
   "metadata": {},
   "outputs": [
    {
     "data": {
      "text/plain": [
       "29.69911764705882"
      ]
     },
     "execution_count": 49,
     "metadata": {},
     "output_type": "execute_result"
    }
   ],
   "source": [
    "# checking our test with the population dataset \n",
    "df[\"age\"].mean()"
   ]
  },
  {
   "cell_type": "markdown",
   "id": "5c60baf2",
   "metadata": {},
   "source": [
    "________________________________________________________________________________________________"
   ]
  },
  {
   "cell_type": "markdown",
   "id": "2b326682",
   "metadata": {},
   "source": [
    "## Independent 2 sample t-test :"
   ]
  },
  {
   "cell_type": "markdown",
   "id": "2d12aa82",
   "metadata": {},
   "source": [
    "#### now we are claiming that the average age of male and average age for female would be similar.for this we are going to do the t-test."
   ]
  },
  {
   "cell_type": "markdown",
   "id": "6ff18f8c",
   "metadata": {},
   "source": [
    "### Answer"
   ]
  },
  {
   "cell_type": "markdown",
   "id": "6fce9ad4",
   "metadata": {},
   "source": [
    "null hypothesis(Ho): average age of  male is similar to the average age of female\n",
    "    \n",
    "alternative hypothesis(Ha):average age of  male is not similar to average age of female.there is significant differrence between them."
   ]
  },
  {
   "cell_type": "code",
   "execution_count": 50,
   "id": "d7c8755a",
   "metadata": {},
   "outputs": [],
   "source": [
    "male_age=df[df[\"sex\"]=='male'][\"age\"]\n",
    "female_age=df[df[\"sex\"]=='female'][\"age\"]"
   ]
  },
  {
   "cell_type": "code",
   "execution_count": 51,
   "id": "e3093340",
   "metadata": {},
   "outputs": [],
   "source": [
    "pop_male_age=male_age.dropna()\n",
    "pop_female_age=female_age.dropna()"
   ]
  },
  {
   "cell_type": "code",
   "execution_count": 52,
   "id": "dad0462c",
   "metadata": {},
   "outputs": [],
   "source": [
    "sample_male=pop_male_age.sample(25).values\n",
    "sample_female=pop_female_age.sample(25).values"
   ]
  },
  {
   "cell_type": "code",
   "execution_count": 53,
   "id": "ee729c1c",
   "metadata": {},
   "outputs": [
    {
     "data": {
      "text/plain": [
       "array([11.  , 74.  , 18.  ,  1.  , 65.  , 45.  , 19.  , 38.  , 22.  ,\n",
       "       31.  ,  7.  ,  4.  , 44.  , 28.  , 40.5 , 21.  , 36.  , 34.  ,\n",
       "        0.42, 33.  , 50.  , 70.5 , 70.  , 32.  , 18.  ])"
      ]
     },
     "execution_count": 53,
     "metadata": {},
     "output_type": "execute_result"
    }
   ],
   "source": [
    "sample_male"
   ]
  },
  {
   "cell_type": "code",
   "execution_count": 54,
   "id": "8a988b24",
   "metadata": {},
   "outputs": [
    {
     "data": {
      "text/plain": [
       "array([14., 30.,  7., 18., 16., 40., 49., 38., 43., 38., 45., 29., 45.,\n",
       "       36.,  4., 35., 41., 29., 51., 22., 19., 17., 30., 54., 21.])"
      ]
     },
     "execution_count": 54,
     "metadata": {},
     "output_type": "execute_result"
    }
   ],
   "source": [
    "sample_female"
   ]
  },
  {
   "cell_type": "markdown",
   "id": "ba871a2c",
   "metadata": {},
   "source": [
    "### checking for assumptions"
   ]
  },
  {
   "cell_type": "code",
   "execution_count": 55,
   "id": "9c2010b6",
   "metadata": {},
   "outputs": [],
   "source": [
    "#normality check:"
   ]
  },
  {
   "cell_type": "code",
   "execution_count": 56,
   "id": "0bf053a6",
   "metadata": {},
   "outputs": [
    {
     "name": "stdout",
     "output_type": "stream",
     "text": [
      "sample_male is normally distributed\n",
      "sample_female is normally distributed\n"
     ]
    }
   ],
   "source": [
    "l={\"sample_male\":sample_male,\"sample_female\":sample_female}\n",
    "for i in l:\n",
    "    result=shapiro(l[i])\n",
    "    p_value=result[1]\n",
    "    if p_value>0.05:\n",
    "        print(f\"{i} is normally distributed\")\n",
    "    else:\n",
    "        print(f\"{i} isn't normally distributed\")"
   ]
  },
  {
   "cell_type": "code",
   "execution_count": 57,
   "id": "9b2707c9",
   "metadata": {},
   "outputs": [],
   "source": [
    "# variance test"
   ]
  },
  {
   "cell_type": "code",
   "execution_count": 58,
   "id": "b15dc4d4",
   "metadata": {},
   "outputs": [
    {
     "name": "stdout",
     "output_type": "stream",
     "text": [
      "these two sample columns have equal variance\n"
     ]
    }
   ],
   "source": [
    "result=stat.levene(sample_male,sample_female)\n",
    "if result[1]>0.05:\n",
    "    print(\"these two sample columns have equal variance\")\n",
    "else:\n",
    "    print(\"variance of these two columns are not equal\")"
   ]
  },
  {
   "cell_type": "markdown",
   "id": "cadc98ef",
   "metadata": {},
   "source": [
    "### testing the t-test:"
   ]
  },
  {
   "cell_type": "code",
   "execution_count": 62,
   "id": "2886cf7c",
   "metadata": {},
   "outputs": [
    {
     "name": "stdout",
     "output_type": "stream",
     "text": [
      "we can't reject our null hypothesis so average age of male is similar to average age of female \n"
     ]
    }
   ],
   "source": [
    "result=stat.ttest_ind(sample_male,sample_female)\n",
    "if result[1]>0.05:\n",
    "    print(\"we can't reject our null hypothesis so average age of male is similar to average age of female \")\n",
    "else:\n",
    "    print(\"average age of male is not similar to average age of female.there is significant differrence between them.\")"
   ]
  },
  {
   "cell_type": "markdown",
   "id": "4b6b8cf9",
   "metadata": {},
   "source": [
    "____________________________________________________________________________________________"
   ]
  },
  {
   "cell_type": "markdown",
   "id": "d3bfc1d6",
   "metadata": {},
   "source": [
    "## pair two sample t test :"
   ]
  },
  {
   "cell_type": "markdown",
   "id": "cf320501",
   "metadata": {},
   "source": [
    "Let's assume that a fitness center is evaluating the effectiveness of a new 8-week weight loss \n",
    "program. They enroll 15 participants in the program and measure their weights before and \n",
    "after the program. The goal is to test whether the new weight loss program leads to a \n",
    "significant reduction in the participants' weight.\n",
    "Before the program: \n",
    "[80, 92, 75, 68, 85, 78, 73, 90, 70, 88, 76, 84, 82, 77, 91]\n",
    "After the program: \n",
    "[78, 93, 81, 67, 88, 76, 74, 91, 69, 88, 77, 81, 80, 79, 88]\n",
    "Significance level (α) = 0.05"
   ]
  },
  {
   "cell_type": "markdown",
   "id": "75b574ad",
   "metadata": {},
   "source": [
    "### answer :"
   ]
  },
  {
   "cell_type": "markdown",
   "id": "b1f8f784",
   "metadata": {},
   "source": [
    "so we have data of weight \n",
    "Before the program: [80, 92, 75, 68, 85, 78, 73, 90, 70, 88, 76, 84, 82, 77, 91]\n",
    "and After the program: [78, 93, 81, 67, 88, 76, 74, 91, 69, 88, 77, 81, 80, 79, 88] "
   ]
  },
  {
   "cell_type": "markdown",
   "id": "0f849627",
   "metadata": {},
   "source": [
    "now our null hypothesis(Ho):mean(before)=mean(after)\n",
    "    \n",
    "alternative hypothesis(Ha):mean(before)>mean(after)"
   ]
  },
  {
   "cell_type": "markdown",
   "id": "7fc538e3",
   "metadata": {},
   "source": [
    "##### now we need to test our assumptions :"
   ]
  },
  {
   "cell_type": "code",
   "execution_count": 64,
   "id": "a457a9a1",
   "metadata": {},
   "outputs": [],
   "source": [
    "# checking the normality of the different columns of these two columns\n",
    "column_before=np.array([80, 92, 75, 68, 85, 78, 73, 90, 70, 88, 76, 84, 82, 77, 91])\n",
    "column_after=np.array([78, 93, 81, 67, 88, 76, 74, 91, 69, 88, 77, 81, 80, 79, 88])"
   ]
  },
  {
   "cell_type": "code",
   "execution_count": 65,
   "id": "933dbf21",
   "metadata": {},
   "outputs": [],
   "source": [
    "diff_column=column_before-column_after"
   ]
  },
  {
   "cell_type": "code",
   "execution_count": 66,
   "id": "70e0a3bb",
   "metadata": {},
   "outputs": [
    {
     "data": {
      "text/plain": [
       "array([ 2, -1, -6,  1, -3,  2, -1, -1,  1,  0, -1,  3,  2, -2,  3])"
      ]
     },
     "execution_count": 66,
     "metadata": {},
     "output_type": "execute_result"
    }
   ],
   "source": [
    "diff_column"
   ]
  },
  {
   "cell_type": "code",
   "execution_count": 71,
   "id": "934ac1b8",
   "metadata": {},
   "outputs": [
    {
     "name": "stdout",
     "output_type": "stream",
     "text": [
      "normally distributed\n"
     ]
    }
   ],
   "source": [
    "result=shapiro(diff_column)\n",
    "p_value=result[1]\n",
    "if p_value>0.05:\n",
    "    print(\"normally distributed\")\n",
    "else:\n",
    "    print(\"not normally distreibuted\")"
   ]
  },
  {
   "cell_type": "markdown",
   "id": "39bd27ec",
   "metadata": {},
   "source": [
    "now we need to find out the t-statistic."
   ]
  },
  {
   "cell_type": "code",
   "execution_count": 72,
   "id": "9ae4fa8e",
   "metadata": {},
   "outputs": [],
   "source": [
    "t_statistic=diff_column.mean()/(diff_column.std()/np.sqrt(15))"
   ]
  },
  {
   "cell_type": "code",
   "execution_count": 73,
   "id": "0adbcad2",
   "metadata": {},
   "outputs": [
    {
     "data": {
      "text/plain": [
       "-0.10850778933039285"
      ]
     },
     "execution_count": 73,
     "metadata": {},
     "output_type": "execute_result"
    }
   ],
   "source": [
    "t_statistic"
   ]
  },
  {
   "cell_type": "markdown",
   "id": "3069c7f8",
   "metadata": {},
   "source": [
    "this the right-tailed test.\n",
    "now we need to find out the p_value with respect to t_statistic"
   ]
  },
  {
   "cell_type": "code",
   "execution_count": 78,
   "id": "fdf4d4dc",
   "metadata": {},
   "outputs": [
    {
     "data": {
      "text/plain": [
       "0.542433629038992"
      ]
     },
     "execution_count": 78,
     "metadata": {},
     "output_type": "execute_result"
    }
   ],
   "source": [
    "p_value=stat.t.sf(t_statistic,14)\n",
    "p_value"
   ]
  },
  {
   "cell_type": "code",
   "execution_count": 77,
   "id": "52672a17",
   "metadata": {},
   "outputs": [
    {
     "name": "stdout",
     "output_type": "stream",
     "text": [
      "we can't reject our null hypothesis and mean(before)=mean(after)\n"
     ]
    }
   ],
   "source": [
    "if p_value>0.05:\n",
    "    print(\"we can't reject our null hypothesis and mean(before)=mean(after)\")\n",
    "else:\n",
    "    print(\"we reject our null hypothesis and (Ha):mean(before)>mean(after)\")"
   ]
  },
  {
   "cell_type": "markdown",
   "id": "106a5c09",
   "metadata": {},
   "source": [
    "_________________________________________________________________________________________________"
   ]
  },
  {
   "cell_type": "code",
   "execution_count": null,
   "id": "f01a8463",
   "metadata": {},
   "outputs": [],
   "source": []
  }
 ],
 "metadata": {
  "kernelspec": {
   "display_name": "Python 3 (ipykernel)",
   "language": "python",
   "name": "python3"
  },
  "language_info": {
   "codemirror_mode": {
    "name": "ipython",
    "version": 3
   },
   "file_extension": ".py",
   "mimetype": "text/x-python",
   "name": "python",
   "nbconvert_exporter": "python",
   "pygments_lexer": "ipython3",
   "version": "3.9.13"
  }
 },
 "nbformat": 4,
 "nbformat_minor": 5
}
